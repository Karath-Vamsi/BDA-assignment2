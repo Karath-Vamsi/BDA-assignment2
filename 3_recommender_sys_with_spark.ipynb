{
  "nbformat": 4,
  "nbformat_minor": 0,
  "metadata": {
    "colab": {
      "provenance": []
    },
    "kernelspec": {
      "name": "python3",
      "display_name": "Python 3"
    },
    "language_info": {
      "name": "python"
    }
  },
  "cells": [
    {
      "cell_type": "code",
      "execution_count": 1,
      "metadata": {
        "id": "y-dyDdF1qMTL"
      },
      "outputs": [],
      "source": [
        "# Install Java\n",
        "!apt-get install openjdk-11-jdk -y > /dev/null\n",
        "\n",
        "# Download Spark\n",
        "!wget -q https://archive.apache.org/dist/spark/spark-3.4.1/spark-3.4.1-bin-hadoop3.tgz\n",
        "!tar -xzf spark-3.4.1-bin-hadoop3.tgz\n",
        "\n",
        "# Install Python dependencies\n",
        "!pip install -q pyspark\n"
      ]
    },
    {
      "cell_type": "code",
      "source": [
        "import os\n",
        "from pyspark.sql import SparkSession\n",
        "\n",
        "os.environ[\"JAVA_HOME\"] = \"/usr/lib/jvm/java-11-openjdk-amd64\"\n",
        "os.environ[\"SPARK_HOME\"] = \"/content/spark-3.4.1-bin-hadoop3\"\n",
        "os.environ[\"PATH\"] += f\":{os.environ['SPARK_HOME']}/bin\"\n",
        "\n",
        "spark = SparkSession.builder \\\n",
        "    .appName(\"SparkRecommendationEngine\") \\\n",
        "    .master(\"local[*]\") \\\n",
        "    .getOrCreate()\n"
      ],
      "metadata": {
        "id": "Qt1MXcq3qSJV"
      },
      "execution_count": 2,
      "outputs": []
    },
    {
      "cell_type": "code",
      "source": [
        "# Download MovieLens 100k dataset\n",
        "!wget -q http://files.grouplens.org/datasets/movielens/ml-100k.zip\n",
        "!unzip -q ml-100k.zip -d /content/\n",
        "\n",
        "# Load MovieLens dataset (users, movies, and ratings)\n",
        "ratings = spark.read.csv('/content/ml-100k/u.data', sep='\\t', inferSchema=True, header=False)\n",
        "ratings = ratings.withColumnRenamed('_c0', 'userId').withColumnRenamed('_c1', 'movieId').withColumnRenamed('_c2', 'rating').withColumnRenamed('_c3', 'timestamp')\n",
        "\n",
        "movies = spark.read.csv('/content/ml-100k/u.item', sep='|', inferSchema=True, header=False)\n",
        "movies = movies.withColumnRenamed('_c0', 'movieId').withColumnRenamed('_c1', 'title')\n",
        "\n",
        "ratings.show(5)\n",
        "movies.show(5)\n"
      ],
      "metadata": {
        "colab": {
          "base_uri": "https://localhost:8080/"
        },
        "id": "-Ua6PgxQxYGE",
        "outputId": "3a0f9263-23f7-4ba0-d25e-aeb8fa1585df"
      },
      "execution_count": 3,
      "outputs": [
        {
          "output_type": "stream",
          "name": "stdout",
          "text": [
            "+------+-------+------+---------+\n",
            "|userId|movieId|rating|timestamp|\n",
            "+------+-------+------+---------+\n",
            "|   196|    242|     3|881250949|\n",
            "|   186|    302|     3|891717742|\n",
            "|    22|    377|     1|878887116|\n",
            "|   244|     51|     2|880606923|\n",
            "|   166|    346|     1|886397596|\n",
            "+------+-------+------+---------+\n",
            "only showing top 5 rows\n",
            "\n",
            "+-------+-----------------+-----------+----+--------------------+---+---+---+---+---+----+----+----+----+----+----+----+----+----+----+----+----+----+----+\n",
            "|movieId|            title|        _c2| _c3|                 _c4|_c5|_c6|_c7|_c8|_c9|_c10|_c11|_c12|_c13|_c14|_c15|_c16|_c17|_c18|_c19|_c20|_c21|_c22|_c23|\n",
            "+-------+-----------------+-----------+----+--------------------+---+---+---+---+---+----+----+----+----+----+----+----+----+----+----+----+----+----+----+\n",
            "|      1| Toy Story (1995)|01-Jan-1995|null|http://us.imdb.co...|  0|  0|  0|  1|  1|   1|   0|   0|   0|   0|   0|   0|   0|   0|   0|   0|   0|   0|   0|\n",
            "|      2| GoldenEye (1995)|01-Jan-1995|null|http://us.imdb.co...|  0|  1|  1|  0|  0|   0|   0|   0|   0|   0|   0|   0|   0|   0|   0|   0|   1|   0|   0|\n",
            "|      3|Four Rooms (1995)|01-Jan-1995|null|http://us.imdb.co...|  0|  0|  0|  0|  0|   0|   0|   0|   0|   0|   0|   0|   0|   0|   0|   0|   1|   0|   0|\n",
            "|      4|Get Shorty (1995)|01-Jan-1995|null|http://us.imdb.co...|  0|  1|  0|  0|  0|   1|   0|   0|   1|   0|   0|   0|   0|   0|   0|   0|   0|   0|   0|\n",
            "|      5|   Copycat (1995)|01-Jan-1995|null|http://us.imdb.co...|  0|  0|  0|  0|  0|   0|   1|   0|   1|   0|   0|   0|   0|   0|   0|   0|   1|   0|   0|\n",
            "+-------+-----------------+-----------+----+--------------------+---+---+---+---+---+----+----+----+----+----+----+----+----+----+----+----+----+----+----+\n",
            "only showing top 5 rows\n",
            "\n"
          ]
        }
      ]
    },
    {
      "cell_type": "code",
      "source": [
        "# Join ratings and movies dataset\n",
        "data = ratings.join(movies, on='movieId').select('userId', 'movieId', 'rating', 'title')\n",
        "\n",
        "# Show joined data\n",
        "data.show(5)\n"
      ],
      "metadata": {
        "colab": {
          "base_uri": "https://localhost:8080/"
        },
        "id": "_IgWO7v4y_e8",
        "outputId": "e3feb2ea-0ff2-4744-dc8d-0a558543d0fa"
      },
      "execution_count": 4,
      "outputs": [
        {
          "output_type": "stream",
          "name": "stdout",
          "text": [
            "+------+-------+------+--------------------+\n",
            "|userId|movieId|rating|               title|\n",
            "+------+-------+------+--------------------+\n",
            "|   196|    242|     3|        Kolya (1996)|\n",
            "|   186|    302|     3|L.A. Confidential...|\n",
            "|    22|    377|     1| Heavyweights (1994)|\n",
            "|   244|     51|     2|Legends of the Fa...|\n",
            "|   166|    346|     1| Jackie Brown (1997)|\n",
            "+------+-------+------+--------------------+\n",
            "only showing top 5 rows\n",
            "\n"
          ]
        }
      ]
    },
    {
      "cell_type": "code",
      "source": [
        "from pyspark.ml.recommendation import ALS\n",
        "\n",
        "# Split the data into training and test sets\n",
        "train_data, test_data = data.randomSplit([0.8, 0.2], seed=1234)\n",
        "\n",
        "# Initialize the ALS model\n",
        "als = ALS(userCol='userId', itemCol='movieId', ratingCol='rating', coldStartStrategy='drop')\n",
        "\n",
        "# Train the model\n",
        "model = als.fit(train_data)\n",
        "\n",
        "# Make predictions\n",
        "predictions = model.transform(test_data)\n",
        "\n",
        "# Show some predictions\n",
        "predictions.show(5)\n"
      ],
      "metadata": {
        "colab": {
          "base_uri": "https://localhost:8080/"
        },
        "id": "Go-E1jw_zlLs",
        "outputId": "f5e42684-bc6d-41d1-b43a-9229e6c67b08"
      },
      "execution_count": 5,
      "outputs": [
        {
          "output_type": "stream",
          "name": "stdout",
          "text": [
            "+------+-------+------+--------------------+----------+\n",
            "|userId|movieId|rating|               title|prediction|\n",
            "+------+-------+------+--------------------+----------+\n",
            "|   148|     70|     5|Four Weddings and...| 3.2065504|\n",
            "|   148|     71|     5|Lion King, The (1...| 3.5808196|\n",
            "|   148|     89|     5| Blade Runner (1982)| 4.1839113|\n",
            "|   148|    114|     5|Wallace & Gromit:...|  4.797039|\n",
            "|   148|    177|     2|Good, The Bad and...|  3.337861|\n",
            "+------+-------+------+--------------------+----------+\n",
            "only showing top 5 rows\n",
            "\n"
          ]
        }
      ]
    },
    {
      "cell_type": "code",
      "source": [
        "from pyspark.ml.evaluation import RegressionEvaluator\n",
        "\n",
        "# RMSE evaluation\n",
        "evaluator = RegressionEvaluator(metricName=\"rmse\", labelCol=\"rating\", predictionCol=\"prediction\")\n",
        "rmse = evaluator.evaluate(predictions)\n",
        "print(f\"Root Mean Squared Error (RMSE) = {rmse:.3f}\")\n"
      ],
      "metadata": {
        "colab": {
          "base_uri": "https://localhost:8080/"
        },
        "id": "Rs_1ou7XzoX7",
        "outputId": "31648fac-ba0e-4bfc-b714-e6bc50faa84a"
      },
      "execution_count": 6,
      "outputs": [
        {
          "output_type": "stream",
          "name": "stdout",
          "text": [
            "Root Mean Squared Error (RMSE) = 0.924\n"
          ]
        }
      ]
    },
    {
      "cell_type": "code",
      "source": [
        "# Get top 10 movie recommendations for a user (e.g., user 1)\n",
        "user_recs = model.recommendForUserSubset(data.filter(data.userId == 1), 10)\n",
        "\n",
        "# Show recommendations for user 1\n",
        "user_recs.show(10, truncate=False)\n"
      ],
      "metadata": {
        "colab": {
          "base_uri": "https://localhost:8080/"
        },
        "id": "vjPyjamh0K0e",
        "outputId": "27ed87f7-6295-423e-9aea-d6b2cbe9408d"
      },
      "execution_count": 7,
      "outputs": [
        {
          "output_type": "stream",
          "name": "stdout",
          "text": [
            "+------+--------------------------------------------------------------------------------------------------------------------------------------------------------------------------------------+\n",
            "|userId|recommendations                                                                                                                                                                       |\n",
            "+------+--------------------------------------------------------------------------------------------------------------------------------------------------------------------------------------+\n",
            "|1     |[{1589, 5.509641}, {1449, 5.229162}, {613, 5.0571914}, {1463, 5.0504336}, {119, 4.8934026}, {169, 4.8902206}, {1405, 4.8798966}, {302, 4.851243}, {1137, 4.837176}, {1398, 4.8334484}]|\n",
            "+------+--------------------------------------------------------------------------------------------------------------------------------------------------------------------------------------+\n",
            "\n"
          ]
        }
      ]
    },
    {
      "cell_type": "code",
      "source": [
        "# Get top 10 movie recommendations for all users\n",
        "all_user_recs = model.recommendForAllUsers(10)\n",
        "\n",
        "# Show recommendations for a few users\n",
        "all_user_recs.show(10, truncate=False)\n"
      ],
      "metadata": {
        "colab": {
          "base_uri": "https://localhost:8080/"
        },
        "id": "LLQnpUXX0MV2",
        "outputId": "acbf3141-a8f2-4ec8-f584-a0355f511c82"
      },
      "execution_count": 8,
      "outputs": [
        {
          "output_type": "stream",
          "name": "stdout",
          "text": [
            "+------+---------------------------------------------------------------------------------------------------------------------------------------------------------------------------------------+\n",
            "|userId|recommendations                                                                                                                                                                        |\n",
            "+------+---------------------------------------------------------------------------------------------------------------------------------------------------------------------------------------+\n",
            "|1     |[{1589, 5.509641}, {1449, 5.229162}, {613, 5.0571914}, {1463, 5.0504336}, {119, 4.8934026}, {169, 4.8902206}, {1405, 4.8798966}, {302, 4.851243}, {1137, 4.837176}, {1398, 4.8334484}] |\n",
            "|3     |[{1591, 4.540423}, {838, 4.365869}, {114, 4.2859}, {1388, 4.256133}, {593, 4.220229}, {320, 4.218633}, {902, 4.194911}, {1368, 4.1844187}, {1143, 4.1816006}, {205, 4.1202497}]        |\n",
            "|5     |[{838, 4.8842177}, {851, 4.725778}, {114, 4.701202}, {1368, 4.660892}, {1589, 4.6482124}, {1500, 4.6060376}, {169, 4.5853114}, {593, 4.5702877}, {1085, 4.5297694}, {1154, 4.514162}]  |\n",
            "|6     |[{1643, 5.125432}, {1463, 5.124143}, {1405, 4.750337}, {1512, 4.63082}, {838, 4.5831103}, {1398, 4.5697837}, {1449, 4.5309706}, {483, 4.52308}, {119, 4.4596157}, {1142, 4.3925843}]   |\n",
            "|9     |[{1589, 5.9896317}, {613, 5.532191}, {1449, 5.3962865}, {896, 5.394199}, {745, 5.289679}, {512, 5.215345}, {1639, 5.1941094}, {1137, 5.1837325}, {1005, 5.0830727}, {1167, 5.0514727}] |\n",
            "|12    |[{1463, 5.514493}, {1449, 5.2652826}, {64, 5.265277}, {1450, 5.1706233}, {313, 5.169323}, {318, 5.147962}, {113, 5.1243467}, {272, 5.1050305}, {1064, 5.077571}, {1664, 5.019506}]     |\n",
            "|13    |[{1463, 5.2112164}, {1450, 4.896325}, {851, 4.8022876}, {868, 4.799003}, {867, 4.7582426}, {1643, 4.706145}, {793, 4.644619}, {1129, 4.5338116}, {1122, 4.523832}, {136, 4.498106}]    |\n",
            "|15    |[{1233, 4.4251204}, {1166, 4.391444}, {1463, 4.3831916}, {1167, 4.26029}, {936, 4.2478375}, {1639, 4.116487}, {1137, 4.1082406}, {286, 4.0916505}, {1450, 4.0663176}, {880, 4.046271}] |\n",
            "|16    |[{1463, 5.6464634}, {1643, 5.4731765}, {1450, 5.334937}, {1467, 5.2705245}, {1449, 5.2303677}, {64, 5.173517}, {318, 5.0926833}, {357, 5.0898323}, {1122, 5.0838494}, {1064, 5.043258}]|\n",
            "|17    |[{1589, 4.728551}, {1129, 4.614105}, {613, 4.5158396}, {793, 4.5049767}, {114, 4.436189}, {851, 4.40174}, {171, 4.3784666}, {1495, 4.330615}, {169, 4.3091803}, {745, 4.2194443}]      |\n",
            "+------+---------------------------------------------------------------------------------------------------------------------------------------------------------------------------------------+\n",
            "only showing top 10 rows\n",
            "\n"
          ]
        }
      ]
    }
  ]
}