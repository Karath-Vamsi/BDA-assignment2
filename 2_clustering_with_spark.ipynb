{
  "nbformat": 4,
  "nbformat_minor": 0,
  "metadata": {
    "colab": {
      "provenance": []
    },
    "kernelspec": {
      "name": "python3",
      "display_name": "Python 3"
    },
    "language_info": {
      "name": "python"
    }
  },
  "cells": [
    {
      "cell_type": "code",
      "execution_count": 1,
      "metadata": {
        "id": "6avgm82rjbgC"
      },
      "outputs": [],
      "source": [
        "# Install Java\n",
        "!apt-get install openjdk-11-jdk -y > /dev/null\n",
        "\n",
        "# Download Spark\n",
        "!wget -q https://archive.apache.org/dist/spark/spark-3.4.1/spark-3.4.1-bin-hadoop3.tgz\n",
        "!tar -xzf spark-3.4.1-bin-hadoop3.tgz\n",
        "\n",
        "# Install Python dependencies\n",
        "!pip install -q pyspark\n"
      ]
    },
    {
      "cell_type": "code",
      "source": [
        "import os\n",
        "from pyspark.sql import SparkSession\n",
        "\n",
        "os.environ[\"JAVA_HOME\"] = \"/usr/lib/jvm/java-11-openjdk-amd64\"\n",
        "os.environ[\"SPARK_HOME\"] = \"/content/spark-3.4.1-bin-hadoop3\"\n",
        "os.environ[\"PATH\"] += f\":{os.environ['SPARK_HOME']}/bin\"\n",
        "\n",
        "spark = SparkSession.builder \\\n",
        "    .appName(\"SparkClusteringExample\") \\\n",
        "    .master(\"local[*]\") \\\n",
        "    .getOrCreate()\n"
      ],
      "metadata": {
        "id": "imirIBSLjgi-"
      },
      "execution_count": 2,
      "outputs": []
    },
    {
      "cell_type": "code",
      "source": [
        "import pandas as pd\n",
        "\n",
        "# Load Wholesale Customers dataset\n",
        "url = \"https://archive.ics.uci.edu/ml/machine-learning-databases/00292/Wholesale%20customers%20data.csv\"\n",
        "df_pd = pd.read_csv(url)\n",
        "\n",
        "# Convert to Spark DataFrame\n",
        "df_spark = spark.createDataFrame(df_pd)\n",
        "df_spark.show(5)\n"
      ],
      "metadata": {
        "colab": {
          "base_uri": "https://localhost:8080/"
        },
        "id": "7s0QuuPglggF",
        "outputId": "e053a582-242b-4c16-ef20-f87440b48597"
      },
      "execution_count": 3,
      "outputs": [
        {
          "output_type": "stream",
          "name": "stdout",
          "text": [
            "+-------+------+-----+----+-------+------+----------------+----------+\n",
            "|Channel|Region|Fresh|Milk|Grocery|Frozen|Detergents_Paper|Delicassen|\n",
            "+-------+------+-----+----+-------+------+----------------+----------+\n",
            "|      2|     3|12669|9656|   7561|   214|            2674|      1338|\n",
            "|      2|     3| 7057|9810|   9568|  1762|            3293|      1776|\n",
            "|      2|     3| 6353|8808|   7684|  2405|            3516|      7844|\n",
            "|      1|     3|13265|1196|   4221|  6404|             507|      1788|\n",
            "|      2|     3|22615|5410|   7198|  3915|            1777|      5185|\n",
            "+-------+------+-----+----+-------+------+----------------+----------+\n",
            "only showing top 5 rows\n",
            "\n"
          ]
        }
      ]
    },
    {
      "cell_type": "code",
      "source": [
        "from pyspark.ml.feature import VectorAssembler\n",
        "\n",
        "feature_cols = df_spark.columns[2:]  # Exclude 'Channel' and 'Region'\n",
        "assembler = VectorAssembler(inputCols=feature_cols, outputCol=\"features\")\n",
        "df_features = assembler.transform(df_spark)\n",
        "df_features.select(\"features\").show(5, truncate=False)\n"
      ],
      "metadata": {
        "colab": {
          "base_uri": "https://localhost:8080/"
        },
        "id": "_Pg96kdJlk-9",
        "outputId": "6bd77796-ec89-47dd-ddea-c26ff8dca182"
      },
      "execution_count": 4,
      "outputs": [
        {
          "output_type": "stream",
          "name": "stdout",
          "text": [
            "+--------------------------------------------+\n",
            "|features                                    |\n",
            "+--------------------------------------------+\n",
            "|[12669.0,9656.0,7561.0,214.0,2674.0,1338.0] |\n",
            "|[7057.0,9810.0,9568.0,1762.0,3293.0,1776.0] |\n",
            "|[6353.0,8808.0,7684.0,2405.0,3516.0,7844.0] |\n",
            "|[13265.0,1196.0,4221.0,6404.0,507.0,1788.0] |\n",
            "|[22615.0,5410.0,7198.0,3915.0,1777.0,5185.0]|\n",
            "+--------------------------------------------+\n",
            "only showing top 5 rows\n",
            "\n"
          ]
        }
      ]
    },
    {
      "cell_type": "code",
      "source": [
        "from pyspark.ml.clustering import KMeans\n",
        "\n",
        "kmeans = KMeans(featuresCol='features', k=3, seed=1)\n",
        "model = kmeans.fit(df_features)\n",
        "\n",
        "# Predict cluster for each row\n",
        "clusters = model.transform(df_features)\n",
        "clusters.select(\"features\", \"prediction\").show(10, truncate=False)\n"
      ],
      "metadata": {
        "colab": {
          "base_uri": "https://localhost:8080/"
        },
        "id": "hZ_XzP6dlqhA",
        "outputId": "f958abd6-a758-4e8d-f6ae-a3bf2d22f91b"
      },
      "execution_count": 5,
      "outputs": [
        {
          "output_type": "stream",
          "name": "stdout",
          "text": [
            "+---------------------------------------------+----------+\n",
            "|features                                     |prediction|\n",
            "+---------------------------------------------+----------+\n",
            "|[12669.0,9656.0,7561.0,214.0,2674.0,1338.0]  |1         |\n",
            "|[7057.0,9810.0,9568.0,1762.0,3293.0,1776.0]  |1         |\n",
            "|[6353.0,8808.0,7684.0,2405.0,3516.0,7844.0]  |1         |\n",
            "|[13265.0,1196.0,4221.0,6404.0,507.0,1788.0]  |1         |\n",
            "|[22615.0,5410.0,7198.0,3915.0,1777.0,5185.0] |0         |\n",
            "|[9413.0,8259.0,5126.0,666.0,1795.0,1451.0]   |1         |\n",
            "|[12126.0,3199.0,6975.0,480.0,3140.0,545.0]   |1         |\n",
            "|[7579.0,4956.0,9426.0,1669.0,3321.0,2566.0]  |1         |\n",
            "|[5963.0,3648.0,6192.0,425.0,1716.0,750.0]    |1         |\n",
            "|[6006.0,11093.0,18881.0,1159.0,7425.0,2098.0]|1         |\n",
            "+---------------------------------------------+----------+\n",
            "only showing top 10 rows\n",
            "\n"
          ]
        }
      ]
    },
    {
      "cell_type": "code",
      "source": [
        "from pyspark.ml.evaluation import ClusteringEvaluator\n",
        "\n",
        "evaluator = ClusteringEvaluator()\n",
        "\n",
        "silhouette = evaluator.evaluate(clusters)\n",
        "print(f\"Silhouette Score = {silhouette:.3f}\")\n"
      ],
      "metadata": {
        "colab": {
          "base_uri": "https://localhost:8080/"
        },
        "id": "GKlC-rRLltbQ",
        "outputId": "a86c954f-1f03-439d-bfa2-a8e9c006074f"
      },
      "execution_count": 6,
      "outputs": [
        {
          "output_type": "stream",
          "name": "stdout",
          "text": [
            "Silhouette Score = 0.648\n"
          ]
        }
      ]
    },
    {
      "cell_type": "code",
      "source": [
        "centers = model.clusterCenters()\n",
        "print(\"Cluster Centers:\")\n",
        "for i, center in enumerate(centers):\n",
        "    print(f\"Cluster {i}: {center}\")\n"
      ],
      "metadata": {
        "colab": {
          "base_uri": "https://localhost:8080/"
        },
        "id": "a5w21b58lvP1",
        "outputId": "a1de6484-a6ca-4f95-fa13-51f98e62971d"
      },
      "execution_count": 7,
      "outputs": [
        {
          "output_type": "stream",
          "name": "stdout",
          "text": [
            "Cluster Centers:\n",
            "Cluster 0: [32768.01333333  4827.68        5723.14666667  5535.92\n",
            "  1074.12        2066.64      ]\n",
            "Cluster 1: [7390.95845697 4439.76854599 6292.1958457  2495.53412463 2238.65281899\n",
            " 1158.44807122]\n",
            "Cluster 2: [11849.17857143 24717.10714286 33887.71428571  3409.32142857\n",
            " 15459.71428571  4483.85714286]\n"
          ]
        }
      ]
    }
  ]
}