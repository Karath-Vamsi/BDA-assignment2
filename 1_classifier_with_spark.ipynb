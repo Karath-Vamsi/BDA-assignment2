{
  "nbformat": 4,
  "nbformat_minor": 0,
  "metadata": {
    "colab": {
      "provenance": []
    },
    "kernelspec": {
      "name": "python3",
      "display_name": "Python 3"
    },
    "language_info": {
      "name": "python"
    }
  },
  "cells": [
    {
      "cell_type": "code",
      "execution_count": 1,
      "metadata": {
        "id": "mywoobgCgGJC"
      },
      "outputs": [],
      "source": [
        "# Install Java\n",
        "!apt-get install openjdk-11-jdk -y > /dev/null\n",
        "\n",
        "# Download Spark (correct URL & version)\n",
        "!wget -q https://archive.apache.org/dist/spark/spark-3.4.1/spark-3.4.1-bin-hadoop3.tgz\n",
        "\n",
        "# Extract Spark\n",
        "!tar -xzf spark-3.4.1-bin-hadoop3.tgz\n",
        "\n",
        "# Install Python packages\n",
        "!pip install -q pyspark findspark\n"
      ]
    },
    {
      "cell_type": "code",
      "source": [
        "import os\n",
        "from pyspark.sql import SparkSession\n",
        "\n",
        "# Set environment variables manually\n",
        "os.environ[\"JAVA_HOME\"] = \"/usr/lib/jvm/java-11-openjdk-amd64\"\n",
        "os.environ[\"SPARK_HOME\"] = \"/content/spark-3.4.1-bin-hadoop3\"\n",
        "os.environ[\"PATH\"] += f\":{os.environ['SPARK_HOME']}/bin\"\n",
        "\n",
        "# Directly create SparkSession (bypass findspark)\n",
        "spark = SparkSession.builder \\\n",
        "    .appName(\"WorkingSparkInColab\") \\\n",
        "    .master(\"local[*]\") \\\n",
        "    .getOrCreate()\n",
        "\n",
        "spark\n"
      ],
      "metadata": {
        "colab": {
          "base_uri": "https://localhost:8080/",
          "height": 219
        },
        "id": "-AlAJikjgLjN",
        "outputId": "7b14a748-fb34-4992-d4e2-df9c30f955b4"
      },
      "execution_count": 2,
      "outputs": [
        {
          "output_type": "execute_result",
          "data": {
            "text/plain": [
              "<pyspark.sql.session.SparkSession at 0x789cc0132a90>"
            ],
            "text/html": [
              "\n",
              "            <div>\n",
              "                <p><b>SparkSession - in-memory</b></p>\n",
              "                \n",
              "        <div>\n",
              "            <p><b>SparkContext</b></p>\n",
              "\n",
              "            <p><a href=\"http://ba064d5274cb:4040\">Spark UI</a></p>\n",
              "\n",
              "            <dl>\n",
              "              <dt>Version</dt>\n",
              "                <dd><code>v3.4.1</code></dd>\n",
              "              <dt>Master</dt>\n",
              "                <dd><code>local[*]</code></dd>\n",
              "              <dt>AppName</dt>\n",
              "                <dd><code>WorkingSparkInColab</code></dd>\n",
              "            </dl>\n",
              "        </div>\n",
              "        \n",
              "            </div>\n",
              "        "
            ]
          },
          "metadata": {},
          "execution_count": 2
        }
      ]
    },
    {
      "cell_type": "code",
      "source": [
        "import pandas as pd\n",
        "\n",
        "# Load Iris dataset using pandas\n",
        "url = \"https://archive.ics.uci.edu/ml/machine-learning-databases/iris/iris.data\"\n",
        "columns = ['sepal_length', 'sepal_width', 'petal_length', 'petal_width', 'label']\n",
        "iris_pd = pd.read_csv(url, names=columns)\n",
        "\n",
        "# Convert to Spark DataFrame\n",
        "iris_spark = spark.createDataFrame(iris_pd)\n",
        "iris_spark.show(5)\n"
      ],
      "metadata": {
        "colab": {
          "base_uri": "https://localhost:8080/"
        },
        "id": "ImxU2o57ibz5",
        "outputId": "3401034b-f759-44be-99d5-77099b6b746b"
      },
      "execution_count": 3,
      "outputs": [
        {
          "output_type": "stream",
          "name": "stdout",
          "text": [
            "+------------+-----------+------------+-----------+-----------+\n",
            "|sepal_length|sepal_width|petal_length|petal_width|      label|\n",
            "+------------+-----------+------------+-----------+-----------+\n",
            "|         5.1|        3.5|         1.4|        0.2|Iris-setosa|\n",
            "|         4.9|        3.0|         1.4|        0.2|Iris-setosa|\n",
            "|         4.7|        3.2|         1.3|        0.2|Iris-setosa|\n",
            "|         4.6|        3.1|         1.5|        0.2|Iris-setosa|\n",
            "|         5.0|        3.6|         1.4|        0.2|Iris-setosa|\n",
            "+------------+-----------+------------+-----------+-----------+\n",
            "only showing top 5 rows\n",
            "\n"
          ]
        }
      ]
    },
    {
      "cell_type": "code",
      "source": [
        "from pyspark.ml.feature import StringIndexer\n",
        "\n",
        "# Convert label from string to numeric\n",
        "indexer = StringIndexer(inputCol=\"label\", outputCol=\"label_index\")\n",
        "iris_indexed = indexer.fit(iris_spark).transform(iris_spark)\n",
        "iris_indexed.select(\"label\", \"label_index\").distinct().show()\n"
      ],
      "metadata": {
        "colab": {
          "base_uri": "https://localhost:8080/"
        },
        "id": "p-EubXt-ioaK",
        "outputId": "16201b03-4b89-4b92-94cd-9f01488653ab"
      },
      "execution_count": 4,
      "outputs": [
        {
          "output_type": "stream",
          "name": "stdout",
          "text": [
            "+---------------+-----------+\n",
            "|          label|label_index|\n",
            "+---------------+-----------+\n",
            "|    Iris-setosa|        0.0|\n",
            "|Iris-versicolor|        1.0|\n",
            "| Iris-virginica|        2.0|\n",
            "+---------------+-----------+\n",
            "\n"
          ]
        }
      ]
    },
    {
      "cell_type": "code",
      "source": [
        "from pyspark.ml.feature import VectorAssembler\n",
        "\n",
        "# Combine features into a single vector\n",
        "assembler = VectorAssembler(\n",
        "    inputCols=['sepal_length', 'sepal_width', 'petal_length', 'petal_width'],\n",
        "    outputCol='features'\n",
        ")\n",
        "\n",
        "iris_features = assembler.transform(iris_indexed)\n",
        "iris_features.select(\"features\", \"label_index\").show(5, truncate=False)\n"
      ],
      "metadata": {
        "colab": {
          "base_uri": "https://localhost:8080/"
        },
        "id": "qkTBhFj6irs0",
        "outputId": "2a2b3e6d-a23c-45d2-dbc9-676d89c4766a"
      },
      "execution_count": 5,
      "outputs": [
        {
          "output_type": "stream",
          "name": "stdout",
          "text": [
            "+-----------------+-----------+\n",
            "|features         |label_index|\n",
            "+-----------------+-----------+\n",
            "|[5.1,3.5,1.4,0.2]|0.0        |\n",
            "|[4.9,3.0,1.4,0.2]|0.0        |\n",
            "|[4.7,3.2,1.3,0.2]|0.0        |\n",
            "|[4.6,3.1,1.5,0.2]|0.0        |\n",
            "|[5.0,3.6,1.4,0.2]|0.0        |\n",
            "+-----------------+-----------+\n",
            "only showing top 5 rows\n",
            "\n"
          ]
        }
      ]
    },
    {
      "cell_type": "code",
      "source": [
        "# Split into training and test sets\n",
        "train_data, test_data = iris_features.randomSplit([0.8, 0.2], seed=42)\n",
        "\n",
        "from pyspark.ml.classification import LogisticRegression\n",
        "\n",
        "lr = LogisticRegression(featuresCol='features', labelCol='label_index', maxIter=10)\n",
        "lr_model = lr.fit(train_data)\n"
      ],
      "metadata": {
        "id": "taqkDoCviub3"
      },
      "execution_count": 6,
      "outputs": []
    },
    {
      "cell_type": "code",
      "source": [
        "# Predict\n",
        "predictions = lr_model.transform(test_data)\n",
        "predictions.select(\"features\", \"label_index\", \"prediction\").show(10)\n"
      ],
      "metadata": {
        "colab": {
          "base_uri": "https://localhost:8080/"
        },
        "id": "3ux8BmG3izQr",
        "outputId": "3e05d1b2-294c-4951-c0c7-26b573a23797"
      },
      "execution_count": 7,
      "outputs": [
        {
          "output_type": "stream",
          "name": "stdout",
          "text": [
            "+-----------------+-----------+----------+\n",
            "|         features|label_index|prediction|\n",
            "+-----------------+-----------+----------+\n",
            "|[4.4,3.0,1.3,0.2]|        0.0|       0.0|\n",
            "|[4.6,3.2,1.4,0.2]|        0.0|       0.0|\n",
            "|[4.6,3.6,1.0,0.2]|        0.0|       0.0|\n",
            "|[4.8,3.1,1.6,0.2]|        0.0|       0.0|\n",
            "|[4.9,3.1,1.5,0.1]|        0.0|       0.0|\n",
            "|[5.0,3.2,1.2,0.2]|        0.0|       0.0|\n",
            "|[5.0,3.6,1.4,0.2]|        0.0|       0.0|\n",
            "|[5.1,3.8,1.5,0.3]|        0.0|       0.0|\n",
            "|[5.4,3.7,1.5,0.2]|        0.0|       0.0|\n",
            "|[5.4,3.9,1.3,0.4]|        0.0|       0.0|\n",
            "+-----------------+-----------+----------+\n",
            "only showing top 10 rows\n",
            "\n"
          ]
        }
      ]
    },
    {
      "cell_type": "code",
      "source": [
        "from pyspark.ml.evaluation import MulticlassClassificationEvaluator\n",
        "\n",
        "evaluator = MulticlassClassificationEvaluator(\n",
        "    labelCol=\"label_index\", predictionCol=\"prediction\", metricName=\"accuracy\")\n",
        "\n",
        "accuracy = evaluator.evaluate(predictions)\n",
        "print(f\"Test Accuracy = {accuracy:.2f}\")\n"
      ],
      "metadata": {
        "colab": {
          "base_uri": "https://localhost:8080/"
        },
        "id": "cuulTQ4Hi1eL",
        "outputId": "ab2f9995-6f1b-49cb-d30d-d9dc843b1bd0"
      },
      "execution_count": 8,
      "outputs": [
        {
          "output_type": "stream",
          "name": "stdout",
          "text": [
            "Test Accuracy = 1.00\n"
          ]
        }
      ]
    }
  ]
}